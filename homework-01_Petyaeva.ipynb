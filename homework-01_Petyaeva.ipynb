{
 "cells": [
  {
   "cell_type": "markdown",
   "metadata": {
    "id": "Q_upCOEI3Upu"
   },
   "source": [
    "# Основы глубинного обучения, майнор ИАД\n",
    "\n",
    "## Домашнее задание 1. Введение в PyTorch. Полносвязные нейронные сети.\n",
    "\n",
    "### Общая информация\n",
    "\n",
    "Дата выдачи: 06.10.2021\n",
    "\n",
    "Мягкий дедлайн: 23:59MSK 25.10.2021\n",
    "\n",
    "Жесткий дедлайн: 23:59MSK 28.10.2021\n",
    "\n",
    "### Оценивание и штрафы\n",
    "Максимально допустимая оценка за работу — 10 баллов. За каждый день просрочки снимается 1 балл. Сдавать задание после жёсткого дедлайна сдачи нельзя.\n",
    "\n",
    "Задание выполняется самостоятельно. «Похожие» решения считаются плагиатом и все задействованные студенты (в том числе те, у кого списали) не могут получить за него больше 0 баллов. Если вы нашли решение какого-то из заданий (или его часть) в открытом источнике, необходимо указать ссылку на этот источник в отдельном блоке в конце вашей работы (скорее всего вы будете не единственным, кто это нашел, поэтому чтобы исключить подозрение в плагиате, необходима ссылка на источник).\n",
    "\n",
    "Неэффективная реализация кода может негативно отразиться на оценке.\n",
    "Также оценка может быть снижена за плохо читаемый код и плохо оформленные графики. Все ответы должны сопровождаться кодом или комментариями о том, как они были получены.\n",
    "\n",
    "### О задании\n",
    "\n",
    "В этом задании вам предстоит предсказывать год выпуска песни по некоторым звуковым признакам: [данные](https://archive.ics.uci.edu/ml/datasets/yearpredictionmsd). В ячейках ниже находится код для загрузки данных. Обратите внимание, что обучающая и тестовая выборки располагаются в одном файле, поэтому НЕ меняйте ячейку, в которой производится деление данных."
   ]
  },
  {
   "cell_type": "code",
   "execution_count": 1,
   "metadata": {
    "id": "RI_eoe063VaP"
   },
   "outputs": [],
   "source": [
    "import torch\n",
    "from torch import nn\n",
    "import pandas as pd\n",
    "import numpy as np\n",
    "import random"
   ]
  },
  {
   "cell_type": "code",
   "execution_count": 2,
   "metadata": {
    "id": "7NgSZeU-7vgj"
   },
   "outputs": [
    {
     "name": "stdout",
     "output_type": "stream",
     "text": [
      "--2021-10-26 21:39:41--  https://archive.ics.uci.edu/ml/machine-learning-databases/00203/YearPredictionMSD.txt.zip\n",
      "Распознаётся archive.ics.uci.edu (archive.ics.uci.edu)… 128.195.10.252\n",
      "Подключение к archive.ics.uci.edu (archive.ics.uci.edu)|128.195.10.252|:443... соединение установлено.\n",
      "HTTP-запрос отправлен. Ожидание ответа… 200 OK\n",
      "Длина: 211011981 (201M) [application/x-httpd-php]\n",
      "Сохранение в: «data.txt.zip»\n",
      "\n",
      "data.txt.zip        100%[===================>] 201,24M  4,01MB/s    за 48s     \n",
      "\n",
      "2021-10-26 21:40:30 (4,19 MB/s) - «data.txt.zip» сохранён [211011981/211011981]\n",
      "\n"
     ]
    }
   ],
   "source": [
    "!wget -O data.txt.zip https://archive.ics.uci.edu/ml/machine-learning-databases/00203/YearPredictionMSD.txt.zip"
   ]
  },
  {
   "cell_type": "code",
   "execution_count": 3,
   "metadata": {
    "id": "DSVJZzkJ7zZE"
   },
   "outputs": [
    {
     "data": {
      "text/html": [
       "<div>\n",
       "<style scoped>\n",
       "    .dataframe tbody tr th:only-of-type {\n",
       "        vertical-align: middle;\n",
       "    }\n",
       "\n",
       "    .dataframe tbody tr th {\n",
       "        vertical-align: top;\n",
       "    }\n",
       "\n",
       "    .dataframe thead th {\n",
       "        text-align: right;\n",
       "    }\n",
       "</style>\n",
       "<table border=\"1\" class=\"dataframe\">\n",
       "  <thead>\n",
       "    <tr style=\"text-align: right;\">\n",
       "      <th></th>\n",
       "      <th>0</th>\n",
       "      <th>1</th>\n",
       "      <th>2</th>\n",
       "      <th>3</th>\n",
       "      <th>4</th>\n",
       "      <th>5</th>\n",
       "      <th>6</th>\n",
       "      <th>7</th>\n",
       "      <th>8</th>\n",
       "      <th>9</th>\n",
       "      <th>...</th>\n",
       "      <th>81</th>\n",
       "      <th>82</th>\n",
       "      <th>83</th>\n",
       "      <th>84</th>\n",
       "      <th>85</th>\n",
       "      <th>86</th>\n",
       "      <th>87</th>\n",
       "      <th>88</th>\n",
       "      <th>89</th>\n",
       "      <th>90</th>\n",
       "    </tr>\n",
       "  </thead>\n",
       "  <tbody>\n",
       "    <tr>\n",
       "      <th>0</th>\n",
       "      <td>2001</td>\n",
       "      <td>49.94357</td>\n",
       "      <td>21.47114</td>\n",
       "      <td>73.07750</td>\n",
       "      <td>8.74861</td>\n",
       "      <td>-17.40628</td>\n",
       "      <td>-13.09905</td>\n",
       "      <td>-25.01202</td>\n",
       "      <td>-12.23257</td>\n",
       "      <td>7.83089</td>\n",
       "      <td>...</td>\n",
       "      <td>13.01620</td>\n",
       "      <td>-54.40548</td>\n",
       "      <td>58.99367</td>\n",
       "      <td>15.37344</td>\n",
       "      <td>1.11144</td>\n",
       "      <td>-23.08793</td>\n",
       "      <td>68.40795</td>\n",
       "      <td>-1.82223</td>\n",
       "      <td>-27.46348</td>\n",
       "      <td>2.26327</td>\n",
       "    </tr>\n",
       "    <tr>\n",
       "      <th>1</th>\n",
       "      <td>2001</td>\n",
       "      <td>48.73215</td>\n",
       "      <td>18.42930</td>\n",
       "      <td>70.32679</td>\n",
       "      <td>12.94636</td>\n",
       "      <td>-10.32437</td>\n",
       "      <td>-24.83777</td>\n",
       "      <td>8.76630</td>\n",
       "      <td>-0.92019</td>\n",
       "      <td>18.76548</td>\n",
       "      <td>...</td>\n",
       "      <td>5.66812</td>\n",
       "      <td>-19.68073</td>\n",
       "      <td>33.04964</td>\n",
       "      <td>42.87836</td>\n",
       "      <td>-9.90378</td>\n",
       "      <td>-32.22788</td>\n",
       "      <td>70.49388</td>\n",
       "      <td>12.04941</td>\n",
       "      <td>58.43453</td>\n",
       "      <td>26.92061</td>\n",
       "    </tr>\n",
       "    <tr>\n",
       "      <th>2</th>\n",
       "      <td>2001</td>\n",
       "      <td>50.95714</td>\n",
       "      <td>31.85602</td>\n",
       "      <td>55.81851</td>\n",
       "      <td>13.41693</td>\n",
       "      <td>-6.57898</td>\n",
       "      <td>-18.54940</td>\n",
       "      <td>-3.27872</td>\n",
       "      <td>-2.35035</td>\n",
       "      <td>16.07017</td>\n",
       "      <td>...</td>\n",
       "      <td>3.03800</td>\n",
       "      <td>26.05866</td>\n",
       "      <td>-50.92779</td>\n",
       "      <td>10.93792</td>\n",
       "      <td>-0.07568</td>\n",
       "      <td>43.20130</td>\n",
       "      <td>-115.00698</td>\n",
       "      <td>-0.05859</td>\n",
       "      <td>39.67068</td>\n",
       "      <td>-0.66345</td>\n",
       "    </tr>\n",
       "    <tr>\n",
       "      <th>3</th>\n",
       "      <td>2001</td>\n",
       "      <td>48.24750</td>\n",
       "      <td>-1.89837</td>\n",
       "      <td>36.29772</td>\n",
       "      <td>2.58776</td>\n",
       "      <td>0.97170</td>\n",
       "      <td>-26.21683</td>\n",
       "      <td>5.05097</td>\n",
       "      <td>-10.34124</td>\n",
       "      <td>3.55005</td>\n",
       "      <td>...</td>\n",
       "      <td>34.57337</td>\n",
       "      <td>-171.70734</td>\n",
       "      <td>-16.96705</td>\n",
       "      <td>-46.67617</td>\n",
       "      <td>-12.51516</td>\n",
       "      <td>82.58061</td>\n",
       "      <td>-72.08993</td>\n",
       "      <td>9.90558</td>\n",
       "      <td>199.62971</td>\n",
       "      <td>18.85382</td>\n",
       "    </tr>\n",
       "    <tr>\n",
       "      <th>4</th>\n",
       "      <td>2001</td>\n",
       "      <td>50.97020</td>\n",
       "      <td>42.20998</td>\n",
       "      <td>67.09964</td>\n",
       "      <td>8.46791</td>\n",
       "      <td>-15.85279</td>\n",
       "      <td>-16.81409</td>\n",
       "      <td>-12.48207</td>\n",
       "      <td>-9.37636</td>\n",
       "      <td>12.63699</td>\n",
       "      <td>...</td>\n",
       "      <td>9.92661</td>\n",
       "      <td>-55.95724</td>\n",
       "      <td>64.92712</td>\n",
       "      <td>-17.72522</td>\n",
       "      <td>-1.49237</td>\n",
       "      <td>-7.50035</td>\n",
       "      <td>51.76631</td>\n",
       "      <td>7.88713</td>\n",
       "      <td>55.66926</td>\n",
       "      <td>28.74903</td>\n",
       "    </tr>\n",
       "  </tbody>\n",
       "</table>\n",
       "<p>5 rows × 91 columns</p>\n",
       "</div>"
      ],
      "text/plain": [
       "     0         1         2         3         4         5         6         7   \\\n",
       "0  2001  49.94357  21.47114  73.07750   8.74861 -17.40628 -13.09905 -25.01202   \n",
       "1  2001  48.73215  18.42930  70.32679  12.94636 -10.32437 -24.83777   8.76630   \n",
       "2  2001  50.95714  31.85602  55.81851  13.41693  -6.57898 -18.54940  -3.27872   \n",
       "3  2001  48.24750  -1.89837  36.29772   2.58776   0.97170 -26.21683   5.05097   \n",
       "4  2001  50.97020  42.20998  67.09964   8.46791 -15.85279 -16.81409 -12.48207   \n",
       "\n",
       "         8         9   ...        81         82        83        84        85  \\\n",
       "0 -12.23257   7.83089  ...  13.01620  -54.40548  58.99367  15.37344   1.11144   \n",
       "1  -0.92019  18.76548  ...   5.66812  -19.68073  33.04964  42.87836  -9.90378   \n",
       "2  -2.35035  16.07017  ...   3.03800   26.05866 -50.92779  10.93792  -0.07568   \n",
       "3 -10.34124   3.55005  ...  34.57337 -171.70734 -16.96705 -46.67617 -12.51516   \n",
       "4  -9.37636  12.63699  ...   9.92661  -55.95724  64.92712 -17.72522  -1.49237   \n",
       "\n",
       "         86         87        88         89        90  \n",
       "0 -23.08793   68.40795  -1.82223  -27.46348   2.26327  \n",
       "1 -32.22788   70.49388  12.04941   58.43453  26.92061  \n",
       "2  43.20130 -115.00698  -0.05859   39.67068  -0.66345  \n",
       "3  82.58061  -72.08993   9.90558  199.62971  18.85382  \n",
       "4  -7.50035   51.76631   7.88713   55.66926  28.74903  \n",
       "\n",
       "[5 rows x 91 columns]"
      ]
     },
     "execution_count": 3,
     "metadata": {},
     "output_type": "execute_result"
    }
   ],
   "source": [
    "df = pd.read_csv('data.txt.zip', header=None)\n",
    "df.head()"
   ]
  },
  {
   "cell_type": "code",
   "execution_count": 4,
   "metadata": {},
   "outputs": [],
   "source": [
    "from sklearn.linear_model import Ridge\n",
    "from sklearn import metrics\n",
    "from tqdm.auto import tqdm\n",
    "import torch.utils.data as data_utils\n",
    "import torch.nn.functional as F\n",
    "from sklearn.preprocessing import StandardScaler\n",
    "import seaborn as sns\n",
    "import warnings\n",
    "warnings.filterwarnings('ignore')"
   ]
  },
  {
   "cell_type": "code",
   "execution_count": 5,
   "metadata": {
    "id": "n4wnRJT1778j"
   },
   "outputs": [],
   "source": [
    "X = df.iloc[:, 1:].values\n",
    "y = df.iloc[:, 0].values\n",
    "\n",
    "train_size = 463715\n",
    "X_train = X[:train_size, :]\n",
    "y_train = y[:train_size]\n",
    "X_test = X[train_size:, :]\n",
    "y_test = y[train_size:]"
   ]
  },
  {
   "cell_type": "code",
   "execution_count": 6,
   "metadata": {},
   "outputs": [],
   "source": [
    "std_y_train = np.std(y_train) # отдельно нормализируем y_train по формуле\n",
    "mean_y_train = np.mean(y_train)\n",
    "\n",
    "y_train = (y_train - mean_y_train) / std_y_train"
   ]
  },
  {
   "cell_type": "code",
   "execution_count": 7,
   "metadata": {},
   "outputs": [],
   "source": [
    "scaler = StandardScaler()\n",
    "scaler.fit(X_train)\n",
    "X_train = scaler.transform(X_train)\n",
    "\n",
    "scaler = StandardScaler()\n",
    "scaler.fit(X_test)\n",
    "X_test = scaler.transform(X_test)"
   ]
  },
  {
   "cell_type": "markdown",
   "metadata": {
    "id": "_386JE_o5gOd"
   },
   "source": [
    "## Задание 0. (0 баллов, но при невыполнении максимум за все задание &mdash; 0 баллов)\n",
    "\n",
    "Мы будем использовать RMSE как метрику качества. Для самого первого бейзлайна обучите `Ridge` регрессию из `sklearn`. Кроме того, посчитайте качество при наилучшем константном прогнозе."
   ]
  },
  {
   "cell_type": "code",
   "execution_count": 9,
   "metadata": {},
   "outputs": [
    {
     "data": {
      "text/plain": [
       "9.51267116131314"
      ]
     },
     "execution_count": 9,
     "metadata": {},
     "output_type": "execute_result"
    }
   ],
   "source": [
    "ridge = Ridge() # посчитаем Ridge()\n",
    "ridge.fit(X_train, y_train)\n",
    "y_pred = ridge.predict(X_test) * std_y_train + mean_y_train\n",
    "\n",
    "metrics.mean_squared_error(y_test, y_pred, squared=False)"
   ]
  },
  {
   "cell_type": "code",
   "execution_count": 10,
   "metadata": {},
   "outputs": [
    {
     "data": {
      "text/plain": [
       "11.403668567118597"
      ]
     },
     "execution_count": 10,
     "metadata": {},
     "output_type": "execute_result"
    }
   ],
   "source": [
    "metrics.mean_squared_error(y_test, np.median(y_test) * np.ones(y_test.shape), squared=False)"
   ]
  },
  {
   "cell_type": "code",
   "execution_count": 11,
   "metadata": {},
   "outputs": [
    {
     "data": {
      "text/plain": [
       "10.851909820717683"
      ]
     },
     "execution_count": 11,
     "metadata": {},
     "output_type": "execute_result"
    }
   ],
   "source": [
    "metrics.mean_squared_error(y_test, np.mean(y_test) * np.ones(y_test.shape), squared=False)"
   ]
  },
  {
   "cell_type": "markdown",
   "metadata": {
    "id": "_6ilBKYt6OdD"
   },
   "source": [
    "## Задание 1. (максимум 10 баллов)\n",
    "\n",
    "Реализуйте обучение и тестирование нейронной сети для предоставленного вам набора данных. Соотношение между полученным значением метрики на тестовой выборке и баллами за задание следующее:\n",
    "\n",
    "- $\\text{RMSE} \\le 9.00 $ &mdash; 4 балла\n",
    "- $\\text{RMSE} \\le 8.90 $ &mdash; 6 баллов\n",
    "- $\\text{RMSE} \\le 8.80 $ &mdash; 8 баллов\n",
    "- $\\text{RMSE} \\le 8.75 $ &mdash; 10 баллов\n",
    "\n",
    "Есть несколько правил, которых вам нужно придерживаться:\n",
    "\n",
    "- Весь пайплайн обучения должен быть написан на PyTorch. При этом вы можете пользоваться другими библиотеками (`numpy`, `sklearn` и пр.), но только для обработки данных. То есть как угодно трансформировать данные и считать метрики с помощью этих библиотек можно, а импортировать модели из `sklearn` и выбивать с их помощью требуемое качество &mdash; нельзя. Также нельзя пользоваться библиотеками, для которых сам PyTorch является зависимостью.\n",
    "\n",
    "- Мы никак не ограничиваем ваш выбор архитектуры модели, но скорее всего вам будет достаточно полносвязной нейронной сети.\n",
    "\n",
    "- Для обучения запрещается использовать какие-либо иные данные, кроме обучающей выборки.\n",
    "\n",
    "- Ансамблирование моделей запрещено.\n",
    "\n",
    "### Полезные советы:\n",
    "\n",
    "- Очень вряд ли, что у вас с первого раза получится выбить качество на 10 баллов, поэтому пробуйте разные архитектуры, оптимизаторы и значения гиперпараметров. В идеале при запуске каждого нового эксперимента вы должны менять что-то одно, чтобы точно знать, как этот фактор влияет на качество.\n",
    "\n",
    "- Тот факт, что мы занимаемся глубинным обучением, не означает, что стоит забывать про приемы, использующиеся в классическом машинном обучении. Так что обязательно проводите исследовательский анализ данных, отрисовывайте нужные графики и не забывайте про масштабирование и подбор гиперпараметров.\n",
    "\n",
    "- Вы наверняка столкнетесь с тем, что ваша нейронная сеть будет сильно переобучаться. Для нейросетей существуют специальные методы регуляризации, например, dropout ([статья](https://jmlr.org/papers/volume15/srivastava14a/srivastava14a.pdf)) и weight decay ([блогпост](https://towardsdatascience.com/weight-decay-l2-regularization-90a9e17713cd)). Они, разумеется, реализованы в PyTorch. Попробуйте поэкспериментировать с ними.\n",
    "\n",
    "- Если вы чего-то не знаете, не гнушайтесь гуглить. В интернете очень много полезной информации, туториалов и советов по глубинному обучению в целом и по PyTorch в частности. Но не забывайте, что за скатанный код без ссылки на источник придется ответить по всей строгости!\n",
    "\n",
    "- Если вы сразу реализуете обучение на GPU, то у вас будет больше времени на эксперименты, так как любые вычисления будут работать быстрее. Google Colab предоставляет несколько GPU-часов (обычно около 8-10) в сутки бесплатно.\n",
    "\n",
    "- Чтобы отладить код, можете обучаться на небольшой части данных или даже на одном батче. Если лосс на обучающей выборке не падает, то что-то точно идет не так!\n",
    "\n",
    "- Пользуйтесь утилитами, которые вам предоставляет PyTorch (например, Dataset и Dataloader). Их специально разработали для упрощения разработки пайплайна обучения.\n",
    "\n",
    "- Скорее всего вы захотите отслеживать прогресс обучения. Для создания прогресс-баров есть удобная библиотека `tqdm`.\n",
    "\n",
    "- Быть может, вы захотите, чтобы графики рисовались прямо во время обучения. Можете воспользоваться функцией [clear_output](http://ipython.org/ipython-doc/dev/api/generated/IPython.display.html#IPython.display.clear_output), чтобы удалять старый график и рисовать новый на его месте.\n",
    "\n",
    "**ОБЯЗАТЕЛЬНО** рисуйте графики зависимости лосса/метрики на обучающей и тестовой выборках в зависимости от времени обучения. Если обучение занимает относительно небольшое число эпох, то лучше рисовать зависимость от номера шага обучения, если же эпох больше, то рисуйте зависимость по эпохам. Если проверяющий не увидит такого графика для вашей лучшей модели, то он в праве снизить баллы за задание.\n",
    "\n",
    "**ВАЖНО!** Ваше решение должно быть воспроизводимым. Если это не так, то проверяющий имеет право снизить баллы за задание. Чтобы зафиксировать random seed, воспользуйтесь функцией из ячейки ниже.\n",
    "\n"
   ]
  },
  {
   "cell_type": "code",
   "execution_count": 51,
   "metadata": {
    "id": "VaMButDmEKKw"
   },
   "outputs": [],
   "source": [
    "def set_random_seed(seed):\n",
    "    torch.backends.cudnn.deterministic = True\n",
    "    torch.manual_seed(seed)\n",
    "    torch.cuda.manual_seed(seed)\n",
    "    np.random.seed(seed)\n",
    "    random.seed(seed)\n",
    "    \n",
    "set_random_seed(99)"
   ]
  },
  {
   "cell_type": "markdown",
   "metadata": {
    "id": "TZW0gMe3vT8u"
   },
   "source": [
    "Вы можете придерживаться любой адекватной струкуры кода, но мы советуем воспользоваться следующими сигнатурами функций. Лучше всего, если вы проверите ваши предсказания ассертом: так вы убережете себя от разных косяков, например, что вектор предсказаний состоит из всего одного числа. В любом случае, внимательно следите за тем, для каких тензоров вы считаете метрику RMSE. При случайном или намеренном введении в заблуждение проверяющие очень сильно разозлятся."
   ]
  },
  {
   "cell_type": "code",
   "execution_count": 71,
   "metadata": {},
   "outputs": [],
   "source": [
    "# создадим трейн и тест\n",
    "train_set =  data_utils.TensorDataset(torch.tensor(\n",
    "    X_train, \n",
    "    dtype=torch.float32), \n",
    "    torch.tensor(y_train, dtype=torch.float32))\n",
    "\n",
    "train_dataloader = torch.utils.data.DataLoader(\n",
    "    train_set, \n",
    "    batch_size=300, \n",
    "    shuffle=True, \n",
    "    drop_last=False)\n",
    "\n",
    "test_set =  data_utils.TensorDataset(torch.tensor(\n",
    "    X_test, \n",
    "    dtype=torch.float32), \n",
    "    torch.tensor(y_test, dtype=torch.float32))\n",
    "\n",
    "test_dataloader = torch.utils.data.DataLoader(\n",
    "    test_set, \n",
    "    batch_size=100, \n",
    "    shuffle=False, \n",
    "    drop_last=False)"
   ]
  },
  {
   "cell_type": "code",
   "execution_count": 147,
   "metadata": {},
   "outputs": [],
   "source": [
    "# создадим нейронную сеть\n",
    "class Net(torch.nn.Module):\n",
    "    def __init__(self, n_feature, n_hidden, n_hidden_1, n_hidden_2, n_hidden_3, n_output):\n",
    "        super(Net, self).__init__()\n",
    "        \n",
    "        \n",
    "        self.fc1 = torch.nn.Linear(n_feature, n_hidden)   # hidden layer\n",
    "        self.b1 = nn.BatchNorm1d(n_hidden)\n",
    "        self.act1 = torch.nn.LeakyReLU()\n",
    "        \n",
    "        \n",
    "        self.d1 = nn.Dropout(p=0.6)\n",
    "        self.fc2 = torch.nn.Linear(n_hidden, n_hidden_1)    # output layer\n",
    "        self.b2 = nn.BatchNorm1d(n_hidden_1)\n",
    "        self.act2 = torch.nn.LeakyReLU()\n",
    "        \n",
    "        self.d2 = nn.Dropout(p=0.6)\n",
    "        self.fc3 = torch.nn.Linear(n_hidden_1, n_hidden_2)    # output layer\n",
    "        self.b3 = nn.BatchNorm1d(n_hidden_2)\n",
    "        self.act3 = torch.nn.LeakyReLU()\n",
    "        \n",
    "        self.d3 = nn.Dropout(p=0.3)\n",
    "        self.fc4 = torch.nn.Linear(n_hidden_2, n_hidden_3)    # output layer\n",
    "        self.b4 = nn.BatchNorm1d(n_hidden_3)\n",
    "        self.act4 = torch.nn.LeakyReLU()\n",
    "        \n",
    "        \n",
    "        self.d4 = nn.Dropout(p=0.3)\n",
    "        self.fc5 = torch.nn.Linear(n_hidden_3, n_output)\n",
    "\n",
    "    def forward(self, x):\n",
    "        x = self.fc1(x) \n",
    "        x = self.b1(x)\n",
    "        x = self.act1(x)\n",
    "        \n",
    "        x = self.d1(x)\n",
    "        x = self.fc2(x) \n",
    "        x = self.b2(x)\n",
    "        x = self.act1(x)\n",
    "        \n",
    "        x = self.d2(x)\n",
    "        x = self.fc3(x) \n",
    "        x = self.b3(x)\n",
    "        x = self.act2(x)\n",
    "        \n",
    "        x = self.d3(x)\n",
    "        x = self.fc4(x) \n",
    "        x = self.b4(x)\n",
    "        x = self.act3(x)\n",
    "        \n",
    "        x = self.d4(x)\n",
    "        x= self.fc5(x)\n",
    "        return x\n",
    "    \n",
    "model = Net(n_feature=90, n_hidden=100, n_hidden_1=70, n_hidden_2=40, n_hidden_3=20, n_output=1) \n",
    "optimizer = torch.optim.Adam(model.parameters(), lr=1e-3, weight_decay=1e-4) #\n",
    "criterion = torch.nn.MSELoss()\n",
    "scheduler = torch.optim.lr_scheduler.ExponentialLR(optimizer, gamma=0.7)"
   ]
  },
  {
   "cell_type": "code",
   "execution_count": 156,
   "metadata": {
    "id": "8Wmxrf5Qveux"
   },
   "outputs": [],
   "source": [
    "def train(model, optimizer,criterion, train_loader, test_loader, std, mean):\n",
    "    '''\n",
    "    params:\n",
    "        model - torch.nn.Module to be fitted\n",
    "        optimizer - model optimizer\n",
    "        criterion - loss function from torch.nn\n",
    "        train_loader - torch.utils.data.Dataloader with train set\n",
    "        test_loader - torch.utils.data.Dataloader with test set\n",
    "                      (if you wish to validate during training)\n",
    "    '''\n",
    "\n",
    "    loss_list = []\n",
    "    # обучение\n",
    "    for epoch in range(5):\n",
    "        model.train()\n",
    "        for imgs, labels in tqdm(train_dataloader, desc=f\"Training, epoch {epoch}\", leave=False):\n",
    "            imgs, labels = imgs.to(device), labels.to(device)\n",
    "            \n",
    "            y_pred = # your code here\n",
    "            loss = # your code here\n",
    "            loss.backward()\n",
    "            optimizer.step()\n",
    "            optimizer.zero_grad()\n",
    "            \n",
    "            # log loss for the current epoch and the whole training history\n",
    "            train_epoch_loss = torch.cat((train_epoch_loss, loss.unsqueeze(0) / labels.size(0)))\n",
    "            train_loss_log.append(loss.data / labels.size(0))\n",
    "\n",
    "            # log accuracy for the current epoch and the whole training history\n",
    "            pred_classes = torch.argmax(y_pred, dim=-1)\n",
    "            train_epoch_true_hits = torch.cat((\n",
    "                train_epoch_true_hits, \n",
    "                (pred_classes == labels).sum().unsqueeze(0)\n",
    "            ))\n",
    "            train_acc_log.append((pred_classes == labels).cpu().sum() / labels.shape[0])\n",
    "\n",
    "\n",
    "        # валидация\n",
    "        val_epoch_loss, val_epoch_true_hits = torch.empty(0), torch.empty(0)\n",
    "        model.eval()\n",
    "        with torch.no_grad():\n",
    "            for imgs, labels in tqdm(val_dataloader, desc=f\"Validating, epoch {epoch}\", leave=False):\n",
    "                imgs, labels = imgs.to(device), labels.to(device)\n",
    "                \n",
    "                y_pred = model(imgs)\n",
    "                loss = criterion(y_pred, labels)\n",
    "                val_epoch_loss = torch.cat((val_epoch_loss, loss.unsqueeze(0) / labels.size(0)))\n",
    "\n",
    "                pred_classes = torch.argmax(y_pred, dim=-1)\n",
    "                val_epoch_true_hits = torch.cat((\n",
    "                    val_epoch_true_hits,\n",
    "                    (pred_classes == labels).sum().unsqueeze(0)\n",
    "                ))\n",
    "        \n",
    "        \n",
    "        val_loss_log.append(val_epoch_loss.mean())\n",
    "        val_acc_log.append(val_epoch_true_hits.sum() / val_epoch_true_hits.size(0) / val_dataloader.batch_size)\n",
    "        clear_output()\n",
    "        plot_history(train_loss_log, val_loss_log, \"loss\")\n",
    "        plot_history(train_acc_log, val_acc_log, \"accuracy\")\n",
    "\n",
    "        print(\"Train loss:\", train_epoch_loss.mean().item())\n",
    "        print(\n",
    "            \"Train acc:\", \n",
    "            (train_epoch_true_hits.sum() / train_epoch_true_hits.size(0) / train_dataloader.batch_size).item()\n",
    "        )\n",
    "        print(\"Val loss:\", val_epoch_loss.mean().item())\n",
    "        print(\n",
    "            \"Val acc:\", \n",
    "            (val_epoch_true_hits.sum() / val_epoch_true_hits.size(0) / val_dataloader.batch_size).item()\n",
    "        )\n",
    "            \n",
    "        # ошибка на валидации    \n",
    "        if epoch % 1 == 0:\n",
    "            with torch.no_grad():\n",
    "                for X_test, y_test in tqdm(test_loader):\n",
    "                    y_pred = (model(X_test))[:, 0]\n",
    "                    y_pred = y_pred * std + mean\n",
    "                    loss = criterion(y_pred, y_test)\n",
    "                    val_loss.append(loss.numpy())\n",
    "\n",
    "            print(f\"Epoch: {epoch}, val_loss: {np.sqrt(np.mean(val_loss))}\")\n",
    "            loss_list.append(np.sqrt(np.mean(val_loss)))\n",
    "            \n",
    "        scheduler.step()\n",
    "    # график     \n",
    "    ax = sns.lineplot(np.arange(len(loss_list)), np.array(loss_list))\n",
    "    ax.set(xlabel='Epoch', ylabel='Loss')\n",
    "    sns.set(rc = {'figure.figsize': (10, 10)})\n",
    "\n",
    "    # raise NotImplementedError\n",
    "\n",
    "def test(model, criterion, test_loader, std, mean):\n",
    "    '''\n",
    "    params:\n",
    "        model - torch.nn.Module to be evaluated on test set\n",
    "        criterion - loss function from torch.nn\n",
    "        test_loader - torch.utils.data.Dataloader with test set\n",
    "    ----------\n",
    "    returns:\n",
    "        predicts - torch.tensor with shape (len(test_loader.dataset), ),\n",
    "                   which contains predictions for test objects\n",
    "    '''    \n",
    "    model.eval()\n",
    "    predicts = torch.tensor([])\n",
    "    loss_list = []\n",
    "    # тест\n",
    "    for X_test, y_test in tqdm(test_loader):\n",
    "        predicts = torch.cat((predicts, model(X_test)), 0) \n",
    "        loss = criterion(predicts * std + mean, y_test)\n",
    "        loss_list.append(loss.detach().numpy())\n",
    "    #график\n",
    "    ax = sns.lineplot(np.arange(len(loss_list)), np.array(loss_list))\n",
    "    ax.set(xlabel='Epoch', ylabel='Loss')\n",
    "    sns.set(rc = {'figure.figsize': (10, 10)})\n",
    "    predicts = predicts * std + mean\n",
    "    return predicts"
   ]
  },
  {
   "cell_type": "code",
   "execution_count": 149,
   "metadata": {},
   "outputs": [
    {
     "data": {
      "application/vnd.jupyter.widget-view+json": {
       "model_id": "7803fa32f9cd4d0fa1c19ce12d3b366b",
       "version_major": 2,
       "version_minor": 0
      },
      "text/plain": [
       "  0%|          | 0/1546 [00:00<?, ?it/s]"
      ]
     },
     "metadata": {},
     "output_type": "display_data"
    },
    {
     "data": {
      "application/vnd.jupyter.widget-view+json": {
       "model_id": "cb12d9398e714f28a0e3ca1b8c000acd",
       "version_major": 2,
       "version_minor": 0
      },
      "text/plain": [
       "  0%|          | 0/517 [00:00<?, ?it/s]"
      ]
     },
     "metadata": {},
     "output_type": "display_data"
    },
    {
     "name": "stdout",
     "output_type": "stream",
     "text": [
      "Epoch: 0, val_loss: 8.843454360961914\n"
     ]
    },
    {
     "data": {
      "application/vnd.jupyter.widget-view+json": {
       "model_id": "8478d604b9d6480cb88a6d473cd12285",
       "version_major": 2,
       "version_minor": 0
      },
      "text/plain": [
       "  0%|          | 0/1546 [00:00<?, ?it/s]"
      ]
     },
     "metadata": {},
     "output_type": "display_data"
    },
    {
     "data": {
      "application/vnd.jupyter.widget-view+json": {
       "model_id": "add4e6de300d440993631e30c3dba48f",
       "version_major": 2,
       "version_minor": 0
      },
      "text/plain": [
       "  0%|          | 0/517 [00:00<?, ?it/s]"
      ]
     },
     "metadata": {},
     "output_type": "display_data"
    },
    {
     "name": "stdout",
     "output_type": "stream",
     "text": [
      "Epoch: 1, val_loss: 8.795221328735352\n"
     ]
    },
    {
     "data": {
      "application/vnd.jupyter.widget-view+json": {
       "model_id": "2a5b9a1155d54527af211ec60c0ed95a",
       "version_major": 2,
       "version_minor": 0
      },
      "text/plain": [
       "  0%|          | 0/1546 [00:00<?, ?it/s]"
      ]
     },
     "metadata": {},
     "output_type": "display_data"
    },
    {
     "data": {
      "application/vnd.jupyter.widget-view+json": {
       "model_id": "acbe1b740cb04ef0abf4dd108d34e08a",
       "version_major": 2,
       "version_minor": 0
      },
      "text/plain": [
       "  0%|          | 0/517 [00:00<?, ?it/s]"
      ]
     },
     "metadata": {},
     "output_type": "display_data"
    },
    {
     "name": "stdout",
     "output_type": "stream",
     "text": [
      "Epoch: 2, val_loss: 8.785449028015137\n"
     ]
    },
    {
     "data": {
      "application/vnd.jupyter.widget-view+json": {
       "model_id": "9477a32564464530a9fdb59be2a26a89",
       "version_major": 2,
       "version_minor": 0
      },
      "text/plain": [
       "  0%|          | 0/1546 [00:00<?, ?it/s]"
      ]
     },
     "metadata": {},
     "output_type": "display_data"
    },
    {
     "data": {
      "application/vnd.jupyter.widget-view+json": {
       "model_id": "3b82b2bc3ac14aefbd34ff089c208b3b",
       "version_major": 2,
       "version_minor": 0
      },
      "text/plain": [
       "  0%|          | 0/517 [00:00<?, ?it/s]"
      ]
     },
     "metadata": {},
     "output_type": "display_data"
    },
    {
     "name": "stdout",
     "output_type": "stream",
     "text": [
      "Epoch: 3, val_loss: 8.795376777648926\n"
     ]
    },
    {
     "data": {
      "application/vnd.jupyter.widget-view+json": {
       "model_id": "a4fb23d1737347f4bcd0b450a96ee161",
       "version_major": 2,
       "version_minor": 0
      },
      "text/plain": [
       "  0%|          | 0/1546 [00:00<?, ?it/s]"
      ]
     },
     "metadata": {},
     "output_type": "display_data"
    },
    {
     "data": {
      "application/vnd.jupyter.widget-view+json": {
       "model_id": "f08480b118a14459b91b698b5a0c9fad",
       "version_major": 2,
       "version_minor": 0
      },
      "text/plain": [
       "  0%|          | 0/517 [00:00<?, ?it/s]"
      ]
     },
     "metadata": {},
     "output_type": "display_data"
    },
    {
     "name": "stdout",
     "output_type": "stream",
     "text": [
      "Epoch: 4, val_loss: 8.761459350585938\n"
     ]
    },
    {
     "name": "stderr",
     "output_type": "stream",
     "text": [
      "/Library/Frameworks/Python.framework/Versions/3.9/lib/python3.9/site-packages/seaborn/_decorators.py:36: FutureWarning: Pass the following variables as keyword args: x, y. From version 0.12, the only valid positional argument will be `data`, and passing other arguments without an explicit keyword will result in an error or misinterpretation.\n",
      "  warnings.warn(\n"
     ]
    },
    {
     "data": {
      "image/png": "[encoded data removed]",
      "text/plain": [
       "<Figure size 720x720 with 1 Axes>"
      ]
     },
     "metadata": {},
     "output_type": "display_data"
    }
   ],
   "source": [
    "train(model, optimizer, criterion, train_dataloader, test_dataloader, std_y_train, mean_y_train)"
   ]
  },
  {
   "cell_type": "code",
   "execution_count": 161,
   "metadata": {},
   "outputs": [
    {
     "data": {
      "application/vnd.jupyter.widget-view+json": {
       "model_id": "f5af8c74fa6c4fe8b9bc7b35fed04c31",
       "version_major": 2,
       "version_minor": 0
      },
      "text/plain": [
       "  0%|          | 0/517 [00:00<?, ?it/s]"
      ]
     },
     "metadata": {},
     "output_type": "display_data"
    },
    {
     "data": {
      "image/png": "[encoded data removed]",
      "text/plain": [
       "<Figure size 720x720 with 1 Axes>"
      ]
     },
     "metadata": {},
     "output_type": "display_data"
    }
   ],
   "source": [
    "y_preds = (test(model, criterion, test_dataloader, std_y_train, mean_y_train))"
   ]
  },
  {
   "cell_type": "code",
   "execution_count": 151,
   "metadata": {},
   "outputs": [
    {
     "data": {
      "text/plain": [
       "8.765073"
      ]
     },
     "execution_count": 151,
     "metadata": {},
     "output_type": "execute_result"
    }
   ],
   "source": [
    "y_t = torch.tensor(y_test, dtype=torch.float32).detach().numpy()\n",
    "y_p = y_preds.reshape(len(y_test),).detach().numpy()\n",
    "metrics.mean_squared_error(y_t, y_p, squared=False)"
   ]
  },
  {
   "cell_type": "code",
   "execution_count": 153,
   "metadata": {
    "id": "4PVEXDgD6Swj"
   },
   "outputs": [
    {
     "data": {
      "application/vnd.jupyter.widget-view+json": {
       "model_id": "88e1db979a9f45d78093f2548439f83b",
       "version_major": 2,
       "version_minor": 0
      },
      "text/plain": [
       "  0%|          | 0/517 [00:00<?, ?it/s]"
      ]
     },
     "metadata": {},
     "output_type": "display_data"
    }
   ],
   "source": [
    "assert test(model, criterion, test_dataloader, std_y_train, mean_y_train).shape[0] == y_test.shape[0]"
   ]
  },
  {
   "cell_type": "markdown",
   "metadata": {
    "id": "bine9EES6TIn"
   },
   "source": [
    "## Задание 2. (0 баллов, но при невыполнении максимум за все задание &mdash; 0 баллов)\n",
    "\n",
    "Напишите небольшой отчет о том, как вы добились полученного качества: какие средства использовали и какие эксперименты проводили. Подробно расскажите об архитектурах и значениях гиперпараметров, а также какие метрики на тесте они показывали. Чтобы отчет был зачтен, необходимо привести хотя бы 3 эксперимента."
   ]
  },
  {
   "cell_type": "code",
   "execution_count": null,
   "metadata": {
    "id": "bk5pEwa66UZn"
   },
   "outputs": [],
   "source": [
    "# отчет:\n",
    "# шаг первый - я ниче не поняла\n",
    "# шаг второй - я посмотрела семинар и все равно ничего не поняла\n",
    "# шаг третий - я почитала статьи, понимание стало появляться\n",
    "# попробовала код с семинара - запуталась в матрицах и обозначениях, решила, что все нужно писать с нуля\n",
    "# написала по этому видосу: https://www.youtube.com/watch?v=khvO24NWZsc&t=2768s \n",
    "# было два слоя relu, и два линейных слоя\n",
    "# начала эксперименты: \n",
    "# сначала долго не могла понять, почему не хочет считать среднюю ошибку - оказалось, что уже на 10-ой итерации ошибка улетала в космос (бесконечность),\n",
    "# уменьшила лосс до 0.0001 - все стало ок\n",
    "# попробовала убрать выбросы (как правило, все что раньше 50-ых и 2011) - стало хуже\n",
    "# попробовала стандартизировать и нормализировать вместе с таргетом - стало хуже, таргет вернула в изначальное значение, остальное - оставила\n",
    "# начала экспериментировать с архитектурой - добавила третий слой - нет, 4 слой - нет\n",
    "# пробовала разные оптимизаторы (ADAGRAD, Adam, LBFGS), отдельные настройки для lr (torch.optim.lr_scheduler.StepLR, lr_scheduler.MultiStepLR) - \n",
    "# ниже 10 не опускалось\n",
    "\n",
    "\n",
    "# вот некоторые из экспериментов:\n",
    "# 90 50 20 - 9.22(5 эпшх), 9.14(8), 9,04(10)\n",
    "# 50 100 - 9.18 (5)\n",
    "# 50 50 9.18 (5 эпох) 8.909265666548915 (20) 8.89012647938593 (25) batch 1000\n",
    "# 90 100 50 (20) 8.892263885175295 (25) 8.870764587352271 c рег batch 1000\n",
    "# 90 100 50 (20) 8.892263885175295 (25) 8.870764587352271 c рег 1e-5 batch 1000\n",
    "# 90 100 50 8.997302309954119 (10) 8.944407772444219 (15) 8.91183532389358 (20)c reg 1e-6 batch 1000\n",
    "# 90 100 50 8.99960210469999 (5) batch 300\n",
    "\n",
    "\n",
    "\n",
    "# до этого все мои модели учились около часа-двух (10 минут за эпоху), потому что я создавала не через data_utils\n",
    "# когда до меня дошло, что можно решать задачу в 60 раз быстрее, стало намного проще)))\n",
    "# так же я отказалась от нормализации через Standartscaller и сделалал через mean и std по формуле\n",
    "\n",
    "# я все еще не могла опуститься ниже 9, поэтому сначала добавила 4-ый слой, а потом и 5-ый\n",
    "# модель стала опускаться сразу к нужной оценке\n",
    "# но ее стало сильно шатать из стороны в сторону, поэтому я стала настраивать регуляризацию и dropout\n",
    "# последним добавила sheduler для стабильности\n"
   ]
  }
 ],
 "metadata": {
  "colab": {
   "collapsed_sections": [],
   "name": "intro-hw01.ipynb",
   "provenance": []
  },
  "kernelspec": {
   "display_name": "Python 3 (ipykernel)",
   "language": "python",
   "name": "python3"
  },
  "language_info": {
   "codemirror_mode": {
    "name": "ipython",
    "version": 3
   },
   "file_extension": ".py",
   "mimetype": "text/x-python",
   "name": "python",
   "nbconvert_exporter": "python",
   "pygments_lexer": "ipython3",
   "version": "3.9.4"
  }
 },
 "nbformat": 4,
 "nbformat_minor": 4
}
